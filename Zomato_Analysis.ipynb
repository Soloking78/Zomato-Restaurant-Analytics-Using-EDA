{
 "cells": [
  {
   "cell_type": "code",
   "execution_count": 3,
   "id": "739b9b83-8f75-4454-98c8-fecc5a549829",
   "metadata": {},
   "outputs": [],
   "source": [
    "import pandas as pd\n",
    "import matplotlib.pyplot as plt\n",
    "import numpy as np\n",
    "import seaborn as sns"
   ]
  },
  {
   "cell_type": "code",
   "execution_count": 4,
   "id": "85b8e0a5-3be2-4b95-b140-4582d87aae4a",
   "metadata": {},
   "outputs": [
    {
     "data": {
      "text/html": [
       "<div>\n",
       "<style scoped>\n",
       "    .dataframe tbody tr th:only-of-type {\n",
       "        vertical-align: middle;\n",
       "    }\n",
       "\n",
       "    .dataframe tbody tr th {\n",
       "        vertical-align: top;\n",
       "    }\n",
       "\n",
       "    .dataframe thead th {\n",
       "        text-align: right;\n",
       "    }\n",
       "</style>\n",
       "<table border=\"1\" class=\"dataframe\">\n",
       "  <thead>\n",
       "    <tr style=\"text-align: right;\">\n",
       "      <th></th>\n",
       "      <th>res_id</th>\n",
       "      <th>name</th>\n",
       "      <th>establishment</th>\n",
       "      <th>url</th>\n",
       "      <th>address</th>\n",
       "      <th>city</th>\n",
       "      <th>city_id</th>\n",
       "      <th>locality</th>\n",
       "      <th>latitude</th>\n",
       "      <th>longitude</th>\n",
       "      <th>...</th>\n",
       "      <th>price_range</th>\n",
       "      <th>currency</th>\n",
       "      <th>highlights</th>\n",
       "      <th>aggregate_rating</th>\n",
       "      <th>rating_text</th>\n",
       "      <th>votes</th>\n",
       "      <th>photo_count</th>\n",
       "      <th>opentable_support</th>\n",
       "      <th>delivery</th>\n",
       "      <th>takeaway</th>\n",
       "    </tr>\n",
       "  </thead>\n",
       "  <tbody>\n",
       "    <tr>\n",
       "      <th>0</th>\n",
       "      <td>3400299</td>\n",
       "      <td>Bikanervala</td>\n",
       "      <td>['Quick Bites']</td>\n",
       "      <td>https://www.zomato.com/agra/bikanervala-khanda...</td>\n",
       "      <td>Kalyani Point, Near Tulsi Cinema, Bypass Road,...</td>\n",
       "      <td>Agra</td>\n",
       "      <td>34</td>\n",
       "      <td>Khandari</td>\n",
       "      <td>27.211450</td>\n",
       "      <td>78.002381</td>\n",
       "      <td>...</td>\n",
       "      <td>2</td>\n",
       "      <td>Rs.</td>\n",
       "      <td>['Lunch', 'Takeaway Available', 'Credit Card',...</td>\n",
       "      <td>4.4</td>\n",
       "      <td>Very Good</td>\n",
       "      <td>814</td>\n",
       "      <td>154</td>\n",
       "      <td>0.0</td>\n",
       "      <td>-1</td>\n",
       "      <td>-1</td>\n",
       "    </tr>\n",
       "    <tr>\n",
       "      <th>1</th>\n",
       "      <td>3400005</td>\n",
       "      <td>Mama Chicken Mama Franky House</td>\n",
       "      <td>['Quick Bites']</td>\n",
       "      <td>https://www.zomato.com/agra/mama-chicken-mama-...</td>\n",
       "      <td>Main Market, Sadar Bazaar, Agra Cantt, Agra</td>\n",
       "      <td>Agra</td>\n",
       "      <td>34</td>\n",
       "      <td>Agra Cantt</td>\n",
       "      <td>27.160569</td>\n",
       "      <td>78.011583</td>\n",
       "      <td>...</td>\n",
       "      <td>2</td>\n",
       "      <td>Rs.</td>\n",
       "      <td>['Delivery', 'No Alcohol Available', 'Dinner',...</td>\n",
       "      <td>4.4</td>\n",
       "      <td>Very Good</td>\n",
       "      <td>1203</td>\n",
       "      <td>161</td>\n",
       "      <td>0.0</td>\n",
       "      <td>-1</td>\n",
       "      <td>-1</td>\n",
       "    </tr>\n",
       "    <tr>\n",
       "      <th>2</th>\n",
       "      <td>3401013</td>\n",
       "      <td>Bhagat Halwai</td>\n",
       "      <td>['Quick Bites']</td>\n",
       "      <td>https://www.zomato.com/agra/bhagat-halwai-2-sh...</td>\n",
       "      <td>62/1, Near Easy Day, West Shivaji Nagar, Goalp...</td>\n",
       "      <td>Agra</td>\n",
       "      <td>34</td>\n",
       "      <td>Shahganj</td>\n",
       "      <td>27.182938</td>\n",
       "      <td>77.979684</td>\n",
       "      <td>...</td>\n",
       "      <td>1</td>\n",
       "      <td>Rs.</td>\n",
       "      <td>['No Alcohol Available', 'Dinner', 'Takeaway A...</td>\n",
       "      <td>4.2</td>\n",
       "      <td>Very Good</td>\n",
       "      <td>801</td>\n",
       "      <td>107</td>\n",
       "      <td>0.0</td>\n",
       "      <td>1</td>\n",
       "      <td>-1</td>\n",
       "    </tr>\n",
       "    <tr>\n",
       "      <th>3</th>\n",
       "      <td>3400290</td>\n",
       "      <td>Bhagat Halwai</td>\n",
       "      <td>['Quick Bites']</td>\n",
       "      <td>https://www.zomato.com/agra/bhagat-halwai-civi...</td>\n",
       "      <td>Near Anjana Cinema, Nehru Nagar, Civil Lines, ...</td>\n",
       "      <td>Agra</td>\n",
       "      <td>34</td>\n",
       "      <td>Civil Lines</td>\n",
       "      <td>27.205668</td>\n",
       "      <td>78.004799</td>\n",
       "      <td>...</td>\n",
       "      <td>1</td>\n",
       "      <td>Rs.</td>\n",
       "      <td>['Takeaway Available', 'Credit Card', 'Lunch',...</td>\n",
       "      <td>4.3</td>\n",
       "      <td>Very Good</td>\n",
       "      <td>693</td>\n",
       "      <td>157</td>\n",
       "      <td>0.0</td>\n",
       "      <td>1</td>\n",
       "      <td>-1</td>\n",
       "    </tr>\n",
       "    <tr>\n",
       "      <th>4</th>\n",
       "      <td>3401744</td>\n",
       "      <td>The Salt Cafe Kitchen &amp; Bar</td>\n",
       "      <td>['Casual Dining']</td>\n",
       "      <td>https://www.zomato.com/agra/the-salt-cafe-kitc...</td>\n",
       "      <td>1C,3rd Floor, Fatehabad Road, Tajganj, Agra</td>\n",
       "      <td>Agra</td>\n",
       "      <td>34</td>\n",
       "      <td>Tajganj</td>\n",
       "      <td>27.157709</td>\n",
       "      <td>78.052421</td>\n",
       "      <td>...</td>\n",
       "      <td>3</td>\n",
       "      <td>Rs.</td>\n",
       "      <td>['Lunch', 'Serves Alcohol', 'Cash', 'Credit Ca...</td>\n",
       "      <td>4.9</td>\n",
       "      <td>Excellent</td>\n",
       "      <td>470</td>\n",
       "      <td>291</td>\n",
       "      <td>0.0</td>\n",
       "      <td>1</td>\n",
       "      <td>-1</td>\n",
       "    </tr>\n",
       "    <tr>\n",
       "      <th>...</th>\n",
       "      <td>...</td>\n",
       "      <td>...</td>\n",
       "      <td>...</td>\n",
       "      <td>...</td>\n",
       "      <td>...</td>\n",
       "      <td>...</td>\n",
       "      <td>...</td>\n",
       "      <td>...</td>\n",
       "      <td>...</td>\n",
       "      <td>...</td>\n",
       "      <td>...</td>\n",
       "      <td>...</td>\n",
       "      <td>...</td>\n",
       "      <td>...</td>\n",
       "      <td>...</td>\n",
       "      <td>...</td>\n",
       "      <td>...</td>\n",
       "      <td>...</td>\n",
       "      <td>...</td>\n",
       "      <td>...</td>\n",
       "      <td>...</td>\n",
       "    </tr>\n",
       "    <tr>\n",
       "      <th>95</th>\n",
       "      <td>3401794</td>\n",
       "      <td>Culinary Junction By Udupi</td>\n",
       "      <td>['Casual Dining']</td>\n",
       "      <td>https://www.zomato.com/agra/culinary-junction-...</td>\n",
       "      <td>1st Floor, Arvind Innov 8, Opposite Hotel Trid...</td>\n",
       "      <td>Agra</td>\n",
       "      <td>34</td>\n",
       "      <td>Tajganj</td>\n",
       "      <td>27.157922</td>\n",
       "      <td>78.061036</td>\n",
       "      <td>...</td>\n",
       "      <td>3</td>\n",
       "      <td>Rs.</td>\n",
       "      <td>['Dinner', 'Takeaway Available', 'Lunch', 'Cas...</td>\n",
       "      <td>4.3</td>\n",
       "      <td>Very Good</td>\n",
       "      <td>36</td>\n",
       "      <td>132</td>\n",
       "      <td>0.0</td>\n",
       "      <td>1</td>\n",
       "      <td>-1</td>\n",
       "    </tr>\n",
       "    <tr>\n",
       "      <th>96</th>\n",
       "      <td>3400328</td>\n",
       "      <td>Chopstix</td>\n",
       "      <td>['Quick Bites']</td>\n",
       "      <td>https://www.zomato.com/agra/chopstix-civil-lin...</td>\n",
       "      <td>G-5/32, Opposite LIC Building, Sanjay Place, C...</td>\n",
       "      <td>Agra</td>\n",
       "      <td>34</td>\n",
       "      <td>Civil Lines</td>\n",
       "      <td>27.201484</td>\n",
       "      <td>78.005289</td>\n",
       "      <td>...</td>\n",
       "      <td>2</td>\n",
       "      <td>Rs.</td>\n",
       "      <td>['Takeaway Available', 'No Alcohol Available',...</td>\n",
       "      <td>3.9</td>\n",
       "      <td>Good</td>\n",
       "      <td>194</td>\n",
       "      <td>44</td>\n",
       "      <td>0.0</td>\n",
       "      <td>1</td>\n",
       "      <td>-1</td>\n",
       "    </tr>\n",
       "    <tr>\n",
       "      <th>97</th>\n",
       "      <td>3401796</td>\n",
       "      <td>Bhagwati Dhaba</td>\n",
       "      <td>['Dhaba']</td>\n",
       "      <td>https://www.zomato.com/agra/bhagwati-dhaba-sik...</td>\n",
       "      <td>Mathura Road, Sikandra, Agra</td>\n",
       "      <td>Agra</td>\n",
       "      <td>34</td>\n",
       "      <td>Sikandra</td>\n",
       "      <td>27.219598</td>\n",
       "      <td>77.932156</td>\n",
       "      <td>...</td>\n",
       "      <td>1</td>\n",
       "      <td>Rs.</td>\n",
       "      <td>['Dinner', 'Delivery', 'Lunch', 'Cash', 'Takea...</td>\n",
       "      <td>4.0</td>\n",
       "      <td>Very Good</td>\n",
       "      <td>194</td>\n",
       "      <td>4</td>\n",
       "      <td>0.0</td>\n",
       "      <td>1</td>\n",
       "      <td>-1</td>\n",
       "    </tr>\n",
       "    <tr>\n",
       "      <th>98</th>\n",
       "      <td>3401582</td>\n",
       "      <td>Chainess</td>\n",
       "      <td>['Quick Bites']</td>\n",
       "      <td>https://www.zomato.com/agra/chainess-civil-lin...</td>\n",
       "      <td>Shop G-11, 12 &amp; 13, Block 34/2, Opposite LIC B...</td>\n",
       "      <td>Agra</td>\n",
       "      <td>34</td>\n",
       "      <td>Civil Lines</td>\n",
       "      <td>27.201700</td>\n",
       "      <td>78.003623</td>\n",
       "      <td>...</td>\n",
       "      <td>1</td>\n",
       "      <td>Rs.</td>\n",
       "      <td>['Lunch', 'Cash', 'Takeaway Available', 'No Al...</td>\n",
       "      <td>4.3</td>\n",
       "      <td>Very Good</td>\n",
       "      <td>127</td>\n",
       "      <td>109</td>\n",
       "      <td>0.0</td>\n",
       "      <td>1</td>\n",
       "      <td>-1</td>\n",
       "    </tr>\n",
       "    <tr>\n",
       "      <th>99</th>\n",
       "      <td>3401225</td>\n",
       "      <td>Jux Pux</td>\n",
       "      <td>['Café']</td>\n",
       "      <td>https://www.zomato.com/agra/jux-pux-khandari?u...</td>\n",
       "      <td>Sanjay Place, Opposite Ashok Cosmos Mall, Sanj...</td>\n",
       "      <td>Agra</td>\n",
       "      <td>34</td>\n",
       "      <td>Khandari</td>\n",
       "      <td>27.201460</td>\n",
       "      <td>78.007529</td>\n",
       "      <td>...</td>\n",
       "      <td>1</td>\n",
       "      <td>Rs.</td>\n",
       "      <td>['Delivery', 'Credit Card', 'Debit Card', 'No ...</td>\n",
       "      <td>3.8</td>\n",
       "      <td>Good</td>\n",
       "      <td>123</td>\n",
       "      <td>59</td>\n",
       "      <td>0.0</td>\n",
       "      <td>1</td>\n",
       "      <td>-1</td>\n",
       "    </tr>\n",
       "  </tbody>\n",
       "</table>\n",
       "<p>100 rows × 26 columns</p>\n",
       "</div>"
      ],
      "text/plain": [
       "     res_id                            name      establishment  \\\n",
       "0   3400299                     Bikanervala    ['Quick Bites']   \n",
       "1   3400005  Mama Chicken Mama Franky House    ['Quick Bites']   \n",
       "2   3401013                   Bhagat Halwai    ['Quick Bites']   \n",
       "3   3400290                   Bhagat Halwai    ['Quick Bites']   \n",
       "4   3401744     The Salt Cafe Kitchen & Bar  ['Casual Dining']   \n",
       "..      ...                             ...                ...   \n",
       "95  3401794      Culinary Junction By Udupi  ['Casual Dining']   \n",
       "96  3400328                        Chopstix    ['Quick Bites']   \n",
       "97  3401796                  Bhagwati Dhaba          ['Dhaba']   \n",
       "98  3401582                        Chainess    ['Quick Bites']   \n",
       "99  3401225                         Jux Pux           ['Café']   \n",
       "\n",
       "                                                  url  \\\n",
       "0   https://www.zomato.com/agra/bikanervala-khanda...   \n",
       "1   https://www.zomato.com/agra/mama-chicken-mama-...   \n",
       "2   https://www.zomato.com/agra/bhagat-halwai-2-sh...   \n",
       "3   https://www.zomato.com/agra/bhagat-halwai-civi...   \n",
       "4   https://www.zomato.com/agra/the-salt-cafe-kitc...   \n",
       "..                                                ...   \n",
       "95  https://www.zomato.com/agra/culinary-junction-...   \n",
       "96  https://www.zomato.com/agra/chopstix-civil-lin...   \n",
       "97  https://www.zomato.com/agra/bhagwati-dhaba-sik...   \n",
       "98  https://www.zomato.com/agra/chainess-civil-lin...   \n",
       "99  https://www.zomato.com/agra/jux-pux-khandari?u...   \n",
       "\n",
       "                                              address  city  city_id  \\\n",
       "0   Kalyani Point, Near Tulsi Cinema, Bypass Road,...  Agra       34   \n",
       "1         Main Market, Sadar Bazaar, Agra Cantt, Agra  Agra       34   \n",
       "2   62/1, Near Easy Day, West Shivaji Nagar, Goalp...  Agra       34   \n",
       "3   Near Anjana Cinema, Nehru Nagar, Civil Lines, ...  Agra       34   \n",
       "4         1C,3rd Floor, Fatehabad Road, Tajganj, Agra  Agra       34   \n",
       "..                                                ...   ...      ...   \n",
       "95  1st Floor, Arvind Innov 8, Opposite Hotel Trid...  Agra       34   \n",
       "96  G-5/32, Opposite LIC Building, Sanjay Place, C...  Agra       34   \n",
       "97                       Mathura Road, Sikandra, Agra  Agra       34   \n",
       "98  Shop G-11, 12 & 13, Block 34/2, Opposite LIC B...  Agra       34   \n",
       "99  Sanjay Place, Opposite Ashok Cosmos Mall, Sanj...  Agra       34   \n",
       "\n",
       "       locality   latitude  longitude  ... price_range  currency  \\\n",
       "0      Khandari  27.211450  78.002381  ...           2       Rs.   \n",
       "1    Agra Cantt  27.160569  78.011583  ...           2       Rs.   \n",
       "2      Shahganj  27.182938  77.979684  ...           1       Rs.   \n",
       "3   Civil Lines  27.205668  78.004799  ...           1       Rs.   \n",
       "4       Tajganj  27.157709  78.052421  ...           3       Rs.   \n",
       "..          ...        ...        ...  ...         ...       ...   \n",
       "95      Tajganj  27.157922  78.061036  ...           3       Rs.   \n",
       "96  Civil Lines  27.201484  78.005289  ...           2       Rs.   \n",
       "97     Sikandra  27.219598  77.932156  ...           1       Rs.   \n",
       "98  Civil Lines  27.201700  78.003623  ...           1       Rs.   \n",
       "99     Khandari  27.201460  78.007529  ...           1       Rs.   \n",
       "\n",
       "                                           highlights aggregate_rating  \\\n",
       "0   ['Lunch', 'Takeaway Available', 'Credit Card',...              4.4   \n",
       "1   ['Delivery', 'No Alcohol Available', 'Dinner',...              4.4   \n",
       "2   ['No Alcohol Available', 'Dinner', 'Takeaway A...              4.2   \n",
       "3   ['Takeaway Available', 'Credit Card', 'Lunch',...              4.3   \n",
       "4   ['Lunch', 'Serves Alcohol', 'Cash', 'Credit Ca...              4.9   \n",
       "..                                                ...              ...   \n",
       "95  ['Dinner', 'Takeaway Available', 'Lunch', 'Cas...              4.3   \n",
       "96  ['Takeaway Available', 'No Alcohol Available',...              3.9   \n",
       "97  ['Dinner', 'Delivery', 'Lunch', 'Cash', 'Takea...              4.0   \n",
       "98  ['Lunch', 'Cash', 'Takeaway Available', 'No Al...              4.3   \n",
       "99  ['Delivery', 'Credit Card', 'Debit Card', 'No ...              3.8   \n",
       "\n",
       "   rating_text  votes  photo_count opentable_support delivery  takeaway  \n",
       "0    Very Good    814          154               0.0       -1        -1  \n",
       "1    Very Good   1203          161               0.0       -1        -1  \n",
       "2    Very Good    801          107               0.0        1        -1  \n",
       "3    Very Good    693          157               0.0        1        -1  \n",
       "4    Excellent    470          291               0.0        1        -1  \n",
       "..         ...    ...          ...               ...      ...       ...  \n",
       "95   Very Good     36          132               0.0        1        -1  \n",
       "96        Good    194           44               0.0        1        -1  \n",
       "97   Very Good    194            4               0.0        1        -1  \n",
       "98   Very Good    127          109               0.0        1        -1  \n",
       "99        Good    123           59               0.0        1        -1  \n",
       "\n",
       "[100 rows x 26 columns]"
      ]
     },
     "execution_count": 4,
     "metadata": {},
     "output_type": "execute_result"
    }
   ],
   "source": [
    "data = pd.read_csv('Indian-Resturants.csv')\n",
    "data.head(100)"
   ]
  },
  {
   "cell_type": "code",
   "execution_count": 5,
   "id": "19208c78-ac87-4711-8047-297962e6933e",
   "metadata": {},
   "outputs": [
    {
     "data": {
      "text/html": [
       "<div>\n",
       "<style scoped>\n",
       "    .dataframe tbody tr th:only-of-type {\n",
       "        vertical-align: middle;\n",
       "    }\n",
       "\n",
       "    .dataframe tbody tr th {\n",
       "        vertical-align: top;\n",
       "    }\n",
       "\n",
       "    .dataframe thead th {\n",
       "        text-align: right;\n",
       "    }\n",
       "</style>\n",
       "<table border=\"1\" class=\"dataframe\">\n",
       "  <thead>\n",
       "    <tr style=\"text-align: right;\">\n",
       "      <th></th>\n",
       "      <th>res_id</th>\n",
       "      <th>city_id</th>\n",
       "      <th>latitude</th>\n",
       "      <th>longitude</th>\n",
       "      <th>country_id</th>\n",
       "      <th>average_cost_for_two</th>\n",
       "      <th>price_range</th>\n",
       "      <th>aggregate_rating</th>\n",
       "      <th>votes</th>\n",
       "      <th>photo_count</th>\n",
       "      <th>opentable_support</th>\n",
       "      <th>delivery</th>\n",
       "      <th>takeaway</th>\n",
       "    </tr>\n",
       "  </thead>\n",
       "  <tbody>\n",
       "    <tr>\n",
       "      <th>count</th>\n",
       "      <td>2.119440e+05</td>\n",
       "      <td>211944.000000</td>\n",
       "      <td>211944.000000</td>\n",
       "      <td>211944.000000</td>\n",
       "      <td>211944.0</td>\n",
       "      <td>211944.000000</td>\n",
       "      <td>211944.000000</td>\n",
       "      <td>211944.000000</td>\n",
       "      <td>211944.000000</td>\n",
       "      <td>211944.000000</td>\n",
       "      <td>211896.0</td>\n",
       "      <td>211944.000000</td>\n",
       "      <td>211944.0</td>\n",
       "    </tr>\n",
       "    <tr>\n",
       "      <th>mean</th>\n",
       "      <td>1.349411e+07</td>\n",
       "      <td>4746.785434</td>\n",
       "      <td>21.499758</td>\n",
       "      <td>77.615276</td>\n",
       "      <td>1.0</td>\n",
       "      <td>595.812229</td>\n",
       "      <td>1.882535</td>\n",
       "      <td>3.395937</td>\n",
       "      <td>378.001864</td>\n",
       "      <td>256.971224</td>\n",
       "      <td>0.0</td>\n",
       "      <td>-0.255907</td>\n",
       "      <td>-1.0</td>\n",
       "    </tr>\n",
       "    <tr>\n",
       "      <th>std</th>\n",
       "      <td>7.883722e+06</td>\n",
       "      <td>5568.766386</td>\n",
       "      <td>22.781331</td>\n",
       "      <td>7.500104</td>\n",
       "      <td>0.0</td>\n",
       "      <td>606.239363</td>\n",
       "      <td>0.892989</td>\n",
       "      <td>1.283642</td>\n",
       "      <td>925.333370</td>\n",
       "      <td>867.668940</td>\n",
       "      <td>0.0</td>\n",
       "      <td>0.964172</td>\n",
       "      <td>0.0</td>\n",
       "    </tr>\n",
       "    <tr>\n",
       "      <th>min</th>\n",
       "      <td>5.000000e+01</td>\n",
       "      <td>1.000000</td>\n",
       "      <td>0.000000</td>\n",
       "      <td>0.000000</td>\n",
       "      <td>1.0</td>\n",
       "      <td>0.000000</td>\n",
       "      <td>1.000000</td>\n",
       "      <td>0.000000</td>\n",
       "      <td>-18.000000</td>\n",
       "      <td>0.000000</td>\n",
       "      <td>0.0</td>\n",
       "      <td>-1.000000</td>\n",
       "      <td>-1.0</td>\n",
       "    </tr>\n",
       "    <tr>\n",
       "      <th>25%</th>\n",
       "      <td>3.301027e+06</td>\n",
       "      <td>11.000000</td>\n",
       "      <td>15.496071</td>\n",
       "      <td>74.877961</td>\n",
       "      <td>1.0</td>\n",
       "      <td>250.000000</td>\n",
       "      <td>1.000000</td>\n",
       "      <td>3.300000</td>\n",
       "      <td>16.000000</td>\n",
       "      <td>3.000000</td>\n",
       "      <td>0.0</td>\n",
       "      <td>-1.000000</td>\n",
       "      <td>-1.0</td>\n",
       "    </tr>\n",
       "    <tr>\n",
       "      <th>50%</th>\n",
       "      <td>1.869573e+07</td>\n",
       "      <td>34.000000</td>\n",
       "      <td>22.514494</td>\n",
       "      <td>77.425971</td>\n",
       "      <td>1.0</td>\n",
       "      <td>400.000000</td>\n",
       "      <td>2.000000</td>\n",
       "      <td>3.800000</td>\n",
       "      <td>100.000000</td>\n",
       "      <td>18.000000</td>\n",
       "      <td>0.0</td>\n",
       "      <td>-1.000000</td>\n",
       "      <td>-1.0</td>\n",
       "    </tr>\n",
       "    <tr>\n",
       "      <th>75%</th>\n",
       "      <td>1.881297e+07</td>\n",
       "      <td>11306.000000</td>\n",
       "      <td>26.841667</td>\n",
       "      <td>80.219323</td>\n",
       "      <td>1.0</td>\n",
       "      <td>700.000000</td>\n",
       "      <td>2.000000</td>\n",
       "      <td>4.100000</td>\n",
       "      <td>362.000000</td>\n",
       "      <td>128.000000</td>\n",
       "      <td>0.0</td>\n",
       "      <td>1.000000</td>\n",
       "      <td>-1.0</td>\n",
       "    </tr>\n",
       "    <tr>\n",
       "      <th>max</th>\n",
       "      <td>1.915979e+07</td>\n",
       "      <td>11354.000000</td>\n",
       "      <td>10000.000000</td>\n",
       "      <td>91.832769</td>\n",
       "      <td>1.0</td>\n",
       "      <td>30000.000000</td>\n",
       "      <td>4.000000</td>\n",
       "      <td>4.900000</td>\n",
       "      <td>42539.000000</td>\n",
       "      <td>17702.000000</td>\n",
       "      <td>0.0</td>\n",
       "      <td>1.000000</td>\n",
       "      <td>-1.0</td>\n",
       "    </tr>\n",
       "  </tbody>\n",
       "</table>\n",
       "</div>"
      ],
      "text/plain": [
       "             res_id        city_id       latitude      longitude  country_id  \\\n",
       "count  2.119440e+05  211944.000000  211944.000000  211944.000000    211944.0   \n",
       "mean   1.349411e+07    4746.785434      21.499758      77.615276         1.0   \n",
       "std    7.883722e+06    5568.766386      22.781331       7.500104         0.0   \n",
       "min    5.000000e+01       1.000000       0.000000       0.000000         1.0   \n",
       "25%    3.301027e+06      11.000000      15.496071      74.877961         1.0   \n",
       "50%    1.869573e+07      34.000000      22.514494      77.425971         1.0   \n",
       "75%    1.881297e+07   11306.000000      26.841667      80.219323         1.0   \n",
       "max    1.915979e+07   11354.000000   10000.000000      91.832769         1.0   \n",
       "\n",
       "       average_cost_for_two    price_range  aggregate_rating          votes  \\\n",
       "count         211944.000000  211944.000000     211944.000000  211944.000000   \n",
       "mean             595.812229       1.882535          3.395937     378.001864   \n",
       "std              606.239363       0.892989          1.283642     925.333370   \n",
       "min                0.000000       1.000000          0.000000     -18.000000   \n",
       "25%              250.000000       1.000000          3.300000      16.000000   \n",
       "50%              400.000000       2.000000          3.800000     100.000000   \n",
       "75%              700.000000       2.000000          4.100000     362.000000   \n",
       "max            30000.000000       4.000000          4.900000   42539.000000   \n",
       "\n",
       "         photo_count  opentable_support       delivery  takeaway  \n",
       "count  211944.000000           211896.0  211944.000000  211944.0  \n",
       "mean      256.971224                0.0      -0.255907      -1.0  \n",
       "std       867.668940                0.0       0.964172       0.0  \n",
       "min         0.000000                0.0      -1.000000      -1.0  \n",
       "25%         3.000000                0.0      -1.000000      -1.0  \n",
       "50%        18.000000                0.0      -1.000000      -1.0  \n",
       "75%       128.000000                0.0       1.000000      -1.0  \n",
       "max     17702.000000                0.0       1.000000      -1.0  "
      ]
     },
     "execution_count": 5,
     "metadata": {},
     "output_type": "execute_result"
    }
   ],
   "source": [
    "data.describe()"
   ]
  },
  {
   "cell_type": "code",
   "execution_count": 6,
   "id": "044eb72d-e785-4fa3-8c3f-138c554ec773",
   "metadata": {},
   "outputs": [
    {
     "name": "stdout",
     "output_type": "stream",
     "text": [
      "<class 'pandas.core.frame.DataFrame'>\n",
      "RangeIndex: 211944 entries, 0 to 211943\n",
      "Data columns (total 26 columns):\n",
      " #   Column                Non-Null Count   Dtype  \n",
      "---  ------                --------------   -----  \n",
      " 0   res_id                211944 non-null  int64  \n",
      " 1   name                  211944 non-null  object \n",
      " 2   establishment         211944 non-null  object \n",
      " 3   url                   211944 non-null  object \n",
      " 4   address               211810 non-null  object \n",
      " 5   city                  211944 non-null  object \n",
      " 6   city_id               211944 non-null  int64  \n",
      " 7   locality              211944 non-null  object \n",
      " 8   latitude              211944 non-null  float64\n",
      " 9   longitude             211944 non-null  float64\n",
      " 10  zipcode               48757 non-null   object \n",
      " 11  country_id            211944 non-null  int64  \n",
      " 12  locality_verbose      211944 non-null  object \n",
      " 13  cuisines              210553 non-null  object \n",
      " 14  timings               208070 non-null  object \n",
      " 15  average_cost_for_two  211944 non-null  int64  \n",
      " 16  price_range           211944 non-null  int64  \n",
      " 17  currency              211944 non-null  object \n",
      " 18  highlights            211944 non-null  object \n",
      " 19  aggregate_rating      211944 non-null  float64\n",
      " 20  rating_text           211944 non-null  object \n",
      " 21  votes                 211944 non-null  int64  \n",
      " 22  photo_count           211944 non-null  int64  \n",
      " 23  opentable_support     211896 non-null  float64\n",
      " 24  delivery              211944 non-null  int64  \n",
      " 25  takeaway              211944 non-null  int64  \n",
      "dtypes: float64(4), int64(9), object(13)\n",
      "memory usage: 42.0+ MB\n"
     ]
    }
   ],
   "source": [
    "data.info()"
   ]
  },
  {
   "cell_type": "code",
   "execution_count": 7,
   "id": "2b570d87-2182-467f-8661-5d0014fd571f",
   "metadata": {},
   "outputs": [
    {
     "data": {
      "text/plain": [
       "res_id                       0\n",
       "name                         0\n",
       "establishment                0\n",
       "url                          0\n",
       "address                    134\n",
       "city                         0\n",
       "city_id                      0\n",
       "locality                     0\n",
       "latitude                     0\n",
       "longitude                    0\n",
       "zipcode                 163187\n",
       "country_id                   0\n",
       "locality_verbose             0\n",
       "cuisines                  1391\n",
       "timings                   3874\n",
       "average_cost_for_two         0\n",
       "price_range                  0\n",
       "currency                     0\n",
       "highlights                   0\n",
       "aggregate_rating             0\n",
       "rating_text                  0\n",
       "votes                        0\n",
       "photo_count                  0\n",
       "opentable_support           48\n",
       "delivery                     0\n",
       "takeaway                     0\n",
       "dtype: int64"
      ]
     },
     "execution_count": 7,
     "metadata": {},
     "output_type": "execute_result"
    }
   ],
   "source": [
    "data.isnull().sum()"
   ]
  },
  {
   "cell_type": "code",
   "execution_count": 8,
   "id": "954c345c-5469-49b7-bfee-dd5e75a61a90",
   "metadata": {},
   "outputs": [],
   "source": [
    "data.fillna({'address': 'not available'} , inplace = True)"
   ]
  },
  {
   "cell_type": "code",
   "execution_count": 9,
   "id": "d0870d42-6a2b-4fa0-91ef-8537e11e862f",
   "metadata": {},
   "outputs": [],
   "source": [
    "mode_value = data['cuisines'].mode()[0]"
   ]
  },
  {
   "cell_type": "code",
   "execution_count": 10,
   "id": "aca4a3d0-07a5-41c7-85ae-4d1c11a4c1d1",
   "metadata": {},
   "outputs": [],
   "source": [
    "data.fillna({'cuisines' : 'mode_value'} , inplace = True)"
   ]
  },
  {
   "cell_type": "code",
   "execution_count": 11,
   "id": "ba5df951-fe7d-4c38-810e-654e9738ca90",
   "metadata": {},
   "outputs": [],
   "source": [
    "mode_value1 = data['opentable_support'].mode()[0]\n",
    "data.fillna({'opentable_support' : 'mode_value1'} , inplace = True)"
   ]
  },
  {
   "cell_type": "code",
   "execution_count": 12,
   "id": "776782dd-703c-4cfe-9cbc-0b618c074947",
   "metadata": {},
   "outputs": [],
   "source": [
    "mode_value2 = data['zipcode'].mode()[0]"
   ]
  },
  {
   "cell_type": "code",
   "execution_count": 13,
   "id": "b22774f7-4c2b-4258-81a9-7b42bd2c93bf",
   "metadata": {},
   "outputs": [],
   "source": [
    "data.fillna({'zipcode' : 'mode_value2'} , inplace = True )"
   ]
  },
  {
   "cell_type": "code",
   "execution_count": 14,
   "id": "c6e4bbd4-fbfc-4548-bbf8-b17d2cf24f5d",
   "metadata": {},
   "outputs": [],
   "source": [
    "mode_value3 = data['timings'].mode()[0]\n",
    "data.fillna({'timings' :  'mode_value3'} , inplace = True)"
   ]
  },
  {
   "cell_type": "code",
   "execution_count": 15,
   "id": "2dfe7912-9649-4f89-91c8-2c2073356085",
   "metadata": {},
   "outputs": [],
   "source": [
    "data = data.drop_duplicates()"
   ]
  },
  {
   "cell_type": "code",
   "execution_count": 16,
   "id": "8d9f4bcb-2b39-4af0-8fcb-57be9d681f99",
   "metadata": {},
   "outputs": [
    {
     "name": "stdout",
     "output_type": "stream",
     "text": [
      "aggregate_rating\n",
      "0.0    10159\n",
      "3.9     3972\n",
      "3.8     3837\n",
      "4.0     3826\n",
      "3.7     3647\n",
      "3.6     3271\n",
      "4.1     3250\n",
      "3.2     3005\n",
      "3.5     2970\n",
      "3.4     2922\n",
      "3.3     2904\n",
      "4.2     2602\n",
      "4.3     1969\n",
      "3.1     1816\n",
      "3.0     1628\n",
      "2.9     1522\n",
      "4.4     1333\n",
      "2.8     1170\n",
      "4.5      877\n",
      "2.7      868\n",
      "4.6      586\n",
      "2.6      575\n",
      "2.5      402\n",
      "4.7      334\n",
      "2.4      305\n",
      "4.8      202\n",
      "4.9      179\n",
      "2.3      176\n",
      "2.2       66\n",
      "2.1       28\n",
      "2.0       10\n",
      "1.9        4\n",
      "1.8        2\n",
      "Name: count, dtype: int64\n"
     ]
    }
   ],
   "source": [
    "print(data['aggregate_rating'].value_counts())"
   ]
  },
  {
   "cell_type": "code",
   "execution_count": 17,
   "id": "b032dffa-a3ec-48ee-9f9b-846f446fac00",
   "metadata": {},
   "outputs": [
    {
     "name": "stdout",
     "output_type": "stream",
     "text": [
      "3.032868232451132\n"
     ]
    }
   ],
   "source": [
    "average_rating = data['aggregate_rating'].mean()\n",
    "print(average_rating)"
   ]
  },
  {
   "cell_type": "code",
   "execution_count": 18,
   "id": "b8037df8-91e7-4e25-bdfd-f2875fc27be3",
   "metadata": {},
   "outputs": [
    {
     "data": {
      "text/plain": [
       "<matplotlib.legend.Legend at 0x18ae2ac93d0>"
      ]
     },
     "execution_count": 18,
     "metadata": {},
     "output_type": "execute_result"
    },
    {
     "data": {
      "image/png": "[encoded data removed]",
      "text/plain": [
       "<Figure size 1000x600 with 1 Axes>"
      ]
     },
     "metadata": {},
     "output_type": "display_data"
    }
   ],
   "source": [
    "plt.figure(figsize = (10,6))\n",
    "sns.histplot(data , x = 'aggregate_rating' , kde = True , color = 'red')\n",
    "plt.ylabel('frequency')\n",
    "plt.title('Ratings')\n",
    "plt.axvline(average_rating, color='red', linewidth=3, label=f'Average Rating: {average_rating:.3f}')\n",
    "plt.legend()"
   ]
  },
  {
   "cell_type": "code",
   "execution_count": 19,
   "id": "40a54f99-ef5c-4285-9896-d57defcce681",
   "metadata": {},
   "outputs": [
    {
     "name": "stdout",
     "output_type": "stream",
     "text": [
      "city\n",
      "Chennai      2612\n",
      "Mumbai       2538\n",
      "Bangalore    2365\n",
      "Pune         1911\n",
      "New Delhi    1847\n",
      "Name: count, dtype: int64\n"
     ]
    },
    {
     "data": {
      "image/png": "[encoded data removed]",
      "text/plain": [
       "<Figure size 640x480 with 1 Axes>"
      ]
     },
     "metadata": {},
     "output_type": "display_data"
    }
   ],
   "source": [
    "# Count of restaurants per city\n",
    "city_counts = data['city'].value_counts()\n",
    "print(city_counts.head())\n",
    "\n",
    "# Plotting top 10 cities\n",
    "import matplotlib.pyplot as plt\n",
    "top_cities = city_counts.head(10)\n",
    "top_cities.plot(kind='bar', title='Top 10 Cities with Restaurants', color='skyblue')\n",
    "plt.xlabel('City')\n",
    "plt.ylabel('Number of Restaurants')\n",
    "plt.show()\n"
   ]
  },
  {
   "cell_type": "code",
   "execution_count": 20,
   "id": "e62f24a8-8e30-445d-812b-8ba698ebd552",
   "metadata": {},
   "outputs": [
    {
     "name": "stdout",
     "output_type": "stream",
     "text": [
      "city\n",
      "Chennai      2612\n",
      "Mumbai       2538\n",
      "Bangalore    2365\n",
      "Pune         1911\n",
      "New Delhi    1847\n",
      "Name: count, dtype: int64\n"
     ]
    }
   ],
   "source": [
    "city_count = data['city'].value_counts()\n",
    "print(city_count.head(5))"
   ]
  },
  {
   "cell_type": "code",
   "execution_count": 21,
   "id": "4c4a504c-b60e-477b-9ddb-391925267e84",
   "metadata": {},
   "outputs": [
    {
     "data": {
      "text/plain": [
       "<Axes: xlabel='city', ylabel='aggregate_rating'>"
      ]
     },
     "execution_count": 21,
     "metadata": {},
     "output_type": "execute_result"
    },
    {
     "data": {
      "image/png": "[encoded data removed]",
      "text/plain": [
       "<Figure size 1000x600 with 1 Axes>"
      ]
     },
     "metadata": {},
     "output_type": "display_data"
    }
   ],
   "source": [
    "plt.figure(figsize =  (10, 6))\n",
    "sns.boxplot(data , x = 'city' , y = 'aggregate_rating' , color = 'yellow' )"
   ]
  },
  {
   "cell_type": "code",
   "execution_count": 22,
   "id": "197b8994-cc29-44aa-a650-67d4f1331c0c",
   "metadata": {},
   "outputs": [
    {
     "ename": "NameError",
     "evalue": "name 'top_10_city_data' is not defined",
     "output_type": "error",
     "traceback": [
      "\u001b[1;31m---------------------------------------------------------------------------\u001b[0m",
      "\u001b[1;31mNameError\u001b[0m                                 Traceback (most recent call last)",
      "Cell \u001b[1;32mIn[22], line 2\u001b[0m\n\u001b[0;32m      1\u001b[0m plt\u001b[38;5;241m.\u001b[39mfigure(figsize\u001b[38;5;241m=\u001b[39m(\u001b[38;5;241m12\u001b[39m, \u001b[38;5;241m6\u001b[39m))\n\u001b[1;32m----> 2\u001b[0m sns\u001b[38;5;241m.\u001b[39mboxplot(x\u001b[38;5;241m=\u001b[39m\u001b[38;5;124m'\u001b[39m\u001b[38;5;124mcity\u001b[39m\u001b[38;5;124m'\u001b[39m, y\u001b[38;5;241m=\u001b[39m\u001b[38;5;124m'\u001b[39m\u001b[38;5;124maggregate_rating\u001b[39m\u001b[38;5;124m'\u001b[39m, data\u001b[38;5;241m=\u001b[39mtop_10_city_data, hue \u001b[38;5;241m=\u001b[39m \u001b[38;5;124m'\u001b[39m\u001b[38;5;124mcity\u001b[39m\u001b[38;5;124m'\u001b[39m, palette\u001b[38;5;241m=\u001b[39m\u001b[38;5;124m'\u001b[39m\u001b[38;5;124mSet3\u001b[39m\u001b[38;5;124m'\u001b[39m)\n\u001b[0;32m      3\u001b[0m plt\u001b[38;5;241m.\u001b[39mtitle(\u001b[38;5;124m'\u001b[39m\u001b[38;5;124mDistribution of Restaurant Ratings Across Top 10 Cities\u001b[39m\u001b[38;5;124m'\u001b[39m, fontsize\u001b[38;5;241m=\u001b[39m\u001b[38;5;241m14\u001b[39m)\n\u001b[0;32m      4\u001b[0m plt\u001b[38;5;241m.\u001b[39mxlabel(\u001b[38;5;124m'\u001b[39m\u001b[38;5;124mCity\u001b[39m\u001b[38;5;124m'\u001b[39m, fontsize\u001b[38;5;241m=\u001b[39m\u001b[38;5;241m12\u001b[39m)\n",
      "\u001b[1;31mNameError\u001b[0m: name 'top_10_city_data' is not defined"
     ]
    },
    {
     "data": {
      "text/plain": [
       "<Figure size 1200x600 with 0 Axes>"
      ]
     },
     "metadata": {},
     "output_type": "display_data"
    }
   ],
   "source": [
    "plt.figure(figsize=(12, 6))\n",
    "sns.boxplot(x='city', y='aggregate_rating', data=top_10_city_data, hue = 'city', palette='Set3')\n",
    "plt.title('Distribution of Restaurant Ratings Across Top 10 Cities', fontsize=14)\n",
    "plt.xlabel('City', fontsize=12)\n",
    "plt.ylabel('Aggregate Rating', fontsize=12)\n",
    "plt.xticks(rotation=45)\n",
    "plt.show()"
   ]
  },
  {
   "cell_type": "code",
   "execution_count": null,
   "id": "bf224a77-4396-4f52-a2e9-598b513e8469",
   "metadata": {},
   "outputs": [],
   "source": [
    "top_10_cities = city_counts.head(12).index\n",
    "top_10_city_data = data[data['city'].isin(top_10_cities)]"
   ]
  },
  {
   "cell_type": "code",
   "execution_count": null,
   "id": "05f7f947-0f81-486f-b73f-155f57e19ca0",
   "metadata": {},
   "outputs": [],
   "source": [
    "import seaborn as sns\n",
    "import matplotlib.pyplot as plt\n",
    "\n",
    "# Identify the city with the highest concentration of restaurants\n",
    "city_counts = data['city'].value_counts()\n",
    "top_city = city_counts.idxmax()\n",
    "top_city_count = city_counts.max()\n",
    "print(f\"The city with the highest concentration of restaurants is {top_city} with {top_city_count} restaurants.\")\n",
    "\n",
    "# Visualize the distribution of restaurant ratings across the top 10 cities\n",
    "top_10_cities = city_counts.head(10).index\n",
    "top_10_city_data = data[data['city'].isin(top_10_cities)]\n",
    "\n",
    "plt.figure(figsize=(12, 6))\n",
    "sns.boxplot(x='city', y='aggregate_rating', data=top_10_city_data, palette='Set3')\n",
    "plt.title('Distribution of Restaurant Ratings Across Top 10 Cities', fontsize=14)\n",
    "plt.xlabel('City', fontsize=12)\n",
    "plt.ylabel('Aggregate Rating', fontsize=12)\n",
    "plt.xticks(rotation=45)\n",
    "plt.show()\n"
   ]
  },
  {
   "cell_type": "code",
   "execution_count": null,
   "id": "1017c2df-af2a-4140-bf1c-3814b91068fb",
   "metadata": {},
   "outputs": [],
   "source": [
    "top_cities = data.groupby('city')['aggregate_rating'].sum().sort_values(ascending=False).head(5)\n",
    "print(top_cities)"
   ]
  },
  {
   "cell_type": "code",
   "execution_count": 41,
   "id": "ae1865cc-dcfc-48be-adb5-1ba111ac4aa8",
   "metadata": {},
   "outputs": [
    {
     "name": "stdout",
     "output_type": "stream",
     "text": [
      "cuisines\n",
      "Cafe, North Indian, Italian, Chinese, Fast Food, Beverages                                               ह-tea The Tea Hut\n",
      "Maharashtrian, Indian, Fast Food                                                                               varadi wada\n",
      "South Indian, North Indian, Indian, Juices                                                                        tempteys\n",
      "Bengali, Beverages, Biryani, Chinese                                                                         tandoor hotel\n",
      "South Indian, North Indian, Continental, European                             re:cess - Hilton Bangalore Embassy GolfLinks\n",
      "Bakery, Indian                                                                                   pankaj sweets and namkeen\n",
      "Mishti, Mithai                                                           panchwati sweetsOm Kumar SweetsRaja Dairy & Sw...\n",
      "North Indian, Healthy Food, Beverages                                                                              nu.tree\n",
      "South Indian, North Indian, Maharashtrian, Indian, Fast Food, Chinese           manmohan family restaurantNeelam fast food\n",
      "Fast Food, Pizza, Sandwich, Street Food                                                           laziz pizzaBombay Wafers\n",
      "Name: name, dtype: object\n"
     ]
    }
   ],
   "source": [
    "top_cuisines = data.groupby('cuisines')['name'].sum().sort_values(ascending = False).head(10)\n",
    "print(top_cuisines)"
   ]
  },
  {
   "cell_type": "code",
   "execution_count": 67,
   "id": "25f268a8-0c38-4443-b42f-a53e044a3319",
   "metadata": {},
   "outputs": [
    {
     "name": "stdout",
     "output_type": "stream",
     "text": [
      "cuisines\n",
      "North Indian     14042\n",
      " Chinese         11090\n",
      " Fast Food        8611\n",
      " North Indian     7217\n",
      " Desserts         5069\n",
      " Beverages        4943\n",
      "Fast Food         4580\n",
      " Continental      4318\n",
      "Bakery            3943\n",
      "South Indian      3652\n",
      "Name: count, dtype: int64\n"
     ]
    }
   ],
   "source": [
    "cuisines_count = data['cuisines'].dropna().str.split(',').explode().value_counts()\n",
    "top_cuisines = cuisines_count.head(10)\n",
    "print(top_cuisines)"
   ]
  },
  {
   "cell_type": "code",
   "execution_count": 45,
   "id": "5e25979f-b76b-4cd4-a614-1bc2c2bdee25",
   "metadata": {},
   "outputs": [
    {
     "name": "stdout",
     "output_type": "stream",
     "text": [
      "Top 10 Most Popular Cuisines:\n",
      " cuisines\n",
      "North Indian    21259\n",
      "Chinese         14139\n",
      "Fast Food       13191\n",
      "Desserts         7755\n",
      "Beverages        7486\n",
      "South Indian     7087\n",
      "Continental      5776\n",
      "Bakery           5064\n",
      "Cafe             4804\n",
      "Italian          4293\n",
      "Name: count, dtype: int64\n"
     ]
    }
   ],
   "source": [
    "cuisine_counts = data['cuisines'].dropna().str.split(', ').explode().value_counts()\n",
    "top_10_cuisines = cuisine_counts.head(10)\n",
    "print(\"Top 10 Most Popular Cuisines:\\n\", top_10_cuisines)"
   ]
  },
  {
   "cell_type": "code",
   "execution_count": 69,
   "id": "0f06b3b6-6f06-4e3b-ae7a-3aa3f7c4be6a",
   "metadata": {},
   "outputs": [
    {
     "name": "stderr",
     "output_type": "stream",
     "text": [
      "C:\\Users\\toshi\\AppData\\Local\\Temp\\ipykernel_16220\\3665477770.py:2: FutureWarning: \n",
      "\n",
      "Passing `palette` without assigning `hue` is deprecated and will be removed in v0.14.0. Assign the `y` variable to `hue` and set `legend=False` for the same effect.\n",
      "\n",
      "  sns.barplot(x=top_cuisines.values, y=top_cuisines.index, palette='Blues_r')\n"
     ]
    },
    {
     "data": {
      "image/png": "[encoded data removed]",
      "text/plain": [
       "<Figure size 1200x600 with 1 Axes>"
      ]
     },
     "metadata": {},
     "output_type": "display_data"
    }
   ],
   "source": [
    "plt.figure(figsize=(12, 6))\n",
    "sns.barplot(x=top_cuisines.values, y=top_cuisines.index, palette='Blues_r')\n",
    "plt.title('Top 10 Most Popular Cuisines', fontsize=14)\n",
    "plt.xlabel('Count', fontsize=12)\n",
    "plt.ylabel('Cuisine', fontsize=12)\n",
    "plt.show()\n"
   ]
  },
  {
   "cell_type": "code",
   "execution_count": null,
   "id": "e52e4782-0464-4dba-af0e-64f08e32d9f6",
   "metadata": {},
   "outputs": [],
   "source": [
    "plt.figure(figsize=(12, 6))\n",
    "sns.barplot(data , x= 'cuisines', y='cuisines', palette='Blues_r').sort_values(ascending = False).head(5)\n",
    "plt.title('Top 10 Most Popular Cuisines', fontsize=14)\n",
    "plt.xlabel('Count', fontsize=12)\n",
    "plt.ylabel('Cuisine', fontsize=12)\n",
    "plt.show()"
   ]
  },
  {
   "cell_type": "code",
   "execution_count": null,
   "id": "d59ee8bd-0d1c-4764-a8c2-4f08e766c383",
   "metadata": {},
   "outputs": [],
   "source": []
  }
 ],
 "metadata": {
  "kernelspec": {
   "display_name": "Python 3 (ipykernel)",
   "language": "python",
   "name": "python3"
  },
  "language_info": {
   "codemirror_mode": {
    "name": "ipython",
    "version": 3
   },
   "file_extension": ".py",
   "mimetype": "text/x-python",
   "name": "python",
   "nbconvert_exporter": "python",
   "pygments_lexer": "ipython3",
   "version": "3.12.4"
  }
 },
 "nbformat": 4,
 "nbformat_minor": 5
}
